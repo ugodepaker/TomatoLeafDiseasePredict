{
  "cells": [
    {
      "cell_type": "code",
      "execution_count": null,
      "metadata": {
        "colab": {
          "base_uri": "https://localhost:8080/"
        },
        "id": "ljpdm7VmFvWK",
        "outputId": "6187f84c-0e70-48db-9e42-79f939090b42"
      },
      "outputs": [
        {
          "output_type": "stream",
          "name": "stdout",
          "text": [
            "Mounted at /content/drive/\n"
          ]
        }
      ],
      "source": [
        "from google.colab import drive\n",
        "drive.mount('/content/drive/')"
      ]
    },
    {
      "cell_type": "code",
      "execution_count": null,
      "metadata": {
        "colab": {
          "base_uri": "https://localhost:8080/"
        },
        "id": "X4Np8g3eFzv1",
        "outputId": "c1bc4155-b238-4177-cfbe-44cd92d0a450"
      },
      "outputs": [
        {
          "output_type": "stream",
          "name": "stdout",
          "text": [
            "/content/drive/My Drive/Data Science\n"
          ]
        }
      ],
      "source": [
        "%cd /content/drive/My Drive/Data Science/"
      ]
    },
    {
      "cell_type": "code",
      "execution_count": null,
      "metadata": {
        "id": "-4kKwiaCFt4c"
      },
      "outputs": [],
      "source": [
        "import os\n",
        "import pandas as pd\n",
        "import numpy as np\n",
        "import tensorflow as tf\n",
        "\n",
        "from sklearn.metrics import confusion_matrix\n",
        "from tensorflow.keras.preprocessing.image import ImageDataGenerator\n",
        "from keras.models import Sequential\n",
        "from tensorflow.keras import layers\n",
        "from tensorflow.keras.models import Model\n",
        "from tensorflow.keras.applications.inception_v3 import InceptionV3\n",
        "from keras.layers import Dense, InputLayer, Dropout, Conv2D, MaxPooling2D, Flatten, GlobalAveragePooling2D\n",
        "from keras.callbacks import EarlyStopping as ES\n",
        "from IPython.display import clear_output as cls\n",
        "\n",
        "\n",
        "import plotly.express as px\n",
        "import matplotlib.pyplot as plt"
      ]
    },
    {
      "cell_type": "code",
      "execution_count": null,
      "metadata": {
        "id": "-7N2IcbJFt4r"
      },
      "outputs": [],
      "source": [
        "batchSize = 32\n",
        "imageShape = (224, 224)\n",
        "epochs = 10\n",
        "channels = 3"
      ]
    },
    {
      "cell_type": "code",
      "execution_count": null,
      "metadata": {
        "id": "Lh4K8E3HFt4u"
      },
      "outputs": [],
      "source": [
        "train_dir = \"TOMATO_VIRUS/tomato/train/\"\n",
        "val_dir = \"TOMATO_VIRUS/tomato/val/\""
      ]
    },
    {
      "cell_type": "code",
      "execution_count": null,
      "metadata": {
        "colab": {
          "base_uri": "https://localhost:8080/"
        },
        "id": "3sctqf4bFt4w",
        "outputId": "269efbf1-e1b1-41fe-f99f-01b67f43be2b"
      },
      "outputs": [
        {
          "output_type": "execute_result",
          "data": {
            "text/plain": [
              "['Tomato___Bacterial_spot',\n",
              " 'Tomato___Early_blight',\n",
              " 'Tomato___Late_blight',\n",
              " 'Tomato___Leaf_Mold',\n",
              " 'Tomato___Septoria_leaf_spot',\n",
              " 'Tomato___Spider_mites Two-spotted_spider_mite',\n",
              " 'Tomato___Target_Spot',\n",
              " 'Tomato___Tomato_Yellow_Leaf_Curl_Virus',\n",
              " 'Tomato___Tomato_mosaic_virus',\n",
              " 'Tomato___healthy']"
            ]
          },
          "metadata": {},
          "execution_count": 5
        }
      ],
      "source": [
        "class_names = sorted(os.listdir(train_dir))\n",
        "class_names"
      ]
    },
    {
      "cell_type": "code",
      "execution_count": null,
      "metadata": {
        "id": "YicLafvxFt4y"
      },
      "outputs": [],
      "source": [
        "class_dis = [len(os.listdir(train_dir + name)) for name in class_names]\n",
        "class_dis"
      ]
    },
    {
      "cell_type": "code",
      "execution_count": null,
      "metadata": {
        "id": "f9eEwgf-Ft40"
      },
      "outputs": [],
      "source": [
        "fig = px.pie(names=class_names, values=class_dis, hole=0.3)\n",
        "fig.update_layout({\"title\":{\"text\":\"Distibution of classes\", \"x\":0.50}})\n",
        "fig.show()"
      ]
    },
    {
      "cell_type": "code",
      "execution_count": null,
      "metadata": {
        "id": "gC293WPkFt44"
      },
      "outputs": [],
      "source": [
        "train_gen = ImageDataGenerator(rescale=(1./255.), validation_split=0.2)\n",
        "val_gen = ImageDataGenerator(rescale=(1./255.))"
      ]
    },
    {
      "cell_type": "code",
      "execution_count": null,
      "metadata": {
        "id": "CeNv34znFt46"
      },
      "outputs": [],
      "source": [
        "train_ds = train_gen.flow_from_directory(train_dir,target_size=imageShape,batch_size=batchSize, subset='training', class_mode='categorical')\n",
        "val_ds = train_gen.flow_from_directory(train_dir,target_size=imageShape,batch_size=batchSize, subset='validation', class_mode='categorical')"
      ]
    },
    {
      "cell_type": "code",
      "execution_count": null,
      "metadata": {
        "id": "yKrrC0dhFt48"
      },
      "outputs": [],
      "source": [
        "test_ds = val_gen.flow_from_directory(val_dir,target_size=imageShape,batch_size=batchSize, class_mode='categorical')"
      ]
    },
    {
      "cell_type": "code",
      "execution_count": null,
      "metadata": {
        "id": "U7KWJIKXFt4-"
      },
      "outputs": [],
      "source": [
        "def plot_images(data, class_names):\n",
        "\n",
        "    r, c = 3, 4\n",
        "    imgLen = r*c\n",
        "\n",
        "    plt.figure(figsize=(20, 15))\n",
        "    i = 1\n",
        "\n",
        "    for images, labels in iter(data):\n",
        "\n",
        "\n",
        "        id = np.random.randint(len(images))\n",
        "#         img = images[id].numpy().astype('uint8')\n",
        "        img = tf.expand_dims(images[id], axis=0)\n",
        "        lab = class_names[np.argmax(labels[id])]\n",
        "\n",
        "        plt.subplot(r, c, i)\n",
        "        plt.imshow(img[0])\n",
        "        plt.title(lab)\n",
        "        plt.axis('off')\n",
        "        cls()\n",
        "\n",
        "        i+=1\n",
        "        if i > imgLen:\n",
        "            break\n",
        "    plt.show()\n"
      ]
    },
    {
      "cell_type": "code",
      "execution_count": null,
      "metadata": {
        "id": "ySpHBDlOFt5A"
      },
      "outputs": [],
      "source": [
        "plot_images(train_ds, class_names)"
      ]
    },
    {
      "cell_type": "code",
      "execution_count": null,
      "metadata": {
        "id": "VfdQ0dO_Ft5B"
      },
      "outputs": [],
      "source": [
        "def get_model():\n",
        "\n",
        "    base_model = InceptionV3(weights='imagenet', include_top=False, input_shape=(224, 224, 3))\n",
        "\n",
        "    for layers in base_model.layers:\n",
        "        layers.trainable = False\n",
        "\n",
        "    base_model_output = base_model.output\n",
        "\n",
        "    x = Flatten()(base_model_output)\n",
        "    x = Dense(512, activation='relu')(x)\n",
        "    x = Dense(len(class_names), activation='softmax')(x)\n",
        "\n",
        "    model = Model(inputs=base_model.input, outputs=x)\n",
        "    return model"
      ]
    },
    {
      "cell_type": "code",
      "execution_count": null,
      "metadata": {
        "id": "kX1otQBDFt5C"
      },
      "outputs": [],
      "source": [
        "model = get_model()\n",
        "\n",
        "model.compile(loss=\"categorical_crossentropy\",\n",
        "             optimizer=\"sgd\",\n",
        "             metrics=[\"accuracy\"])\n",
        "\n",
        "model.summary()"
      ]
    },
    {
      "cell_type": "code",
      "execution_count": null,
      "metadata": {
        "id": "AaEPQjzJFt5D"
      },
      "outputs": [],
      "source": [
        "history = model.fit(train_ds,\n",
        "                   validation_data=val_ds,\n",
        "                   epochs=30,\n",
        "                   steps_per_epoch=len(train_ds),\n",
        "                   validation_steps=len(val_ds),\n",
        "                   callbacks=[ES(monitor=\"val_loss\", patience=10)])"
      ]
    },
    {
      "cell_type": "code",
      "execution_count": null,
      "metadata": {
        "id": "T_T4B6MDljaf"
      },
      "outputs": [],
      "source": [
        "model.save('saved_model.h5')"
      ]
    },
    {
      "cell_type": "code",
      "source": [
        "# Calculate the accuracy, recall, and other metrics.\n",
        "metrics = model.evaluate(val_ds)\n",
        "metrics"
      ],
      "metadata": {
        "id": "q2YkU2ZAmItT"
      },
      "execution_count": null,
      "outputs": []
    },
    {
      "cell_type": "code",
      "execution_count": null,
      "metadata": {
        "id": "m458IxarFt5E"
      },
      "outputs": [],
      "source": [
        "learningcurve = pd.DataFrame(history.history)\n",
        "learningcurve.plot(figsize=(10, 5))\n",
        "plt.title(\"Learning Curve\")\n",
        "plt.grid()"
      ]
    },
    {
      "cell_type": "code",
      "execution_count": null,
      "metadata": {
        "id": "VoX5hFJNk7Yw"
      },
      "outputs": [],
      "source": [
        "class_names = sorted(os.listdir(train_dir))\n",
        "class_names"
      ]
    },
    {
      "cell_type": "code",
      "source": [
        "!pip install Pillow"
      ],
      "metadata": {
        "id": "E7tdcIbX573I"
      },
      "execution_count": null,
      "outputs": []
    },
    {
      "cell_type": "code",
      "source": [
        "from PIL import Image"
      ],
      "metadata": {
        "id": "D75Lp84P5_2a"
      },
      "execution_count": null,
      "outputs": []
    },
    {
      "cell_type": "code",
      "source": [
        "loaded_model = tf.keras.models.load_model('saved_model.h5')"
      ],
      "metadata": {
        "id": "Lw0i1etM8exo"
      },
      "execution_count": null,
      "outputs": []
    },
    {
      "cell_type": "code",
      "source": [
        "image = 'TOMATO_VIRUS/tomato/val/Tomato___Tomato_mosaic_virus/Tomato___Tomato_mosaic_virus_original_01b32f27-2b9b-4961-805b-8066bf4d90f1___PSU_CG 2417.JPG_d12017e3-aca4-49f1-b01c-8f4e418e6d5e.JPG'\n",
        "image = Image.open(image)\n",
        "image = image.resize(imageShape)"
      ],
      "metadata": {
        "id": "03Mf1c4l5ch1"
      },
      "execution_count": null,
      "outputs": []
    },
    {
      "cell_type": "code",
      "source": [
        "\n",
        "def predict_single_image(image, class_names, model):\n",
        "    # Create an ImageDataGenerator for a single image\n",
        "    data_generator = ImageDataGenerator(rescale=1./255)\n",
        "    image_generator = data_generator.flow(np.expand_dims(image, axis=0), batch_size=1)\n",
        "\n",
        "    predicted = loaded_model.predict(image_generator)\n",
        "    predicted_label = class_names[np.argmax(predicted)]\n",
        "\n",
        "    plt.imshow(image)\n",
        "    plt.title(f\"Actual: N/A\\nPredicted: {predicted_label}\")\n",
        "    plt.axis('off')\n",
        "    plt.show()\n",
        "\n",
        "    return None, predicted_label, image\n",
        "\n",
        "\n",
        "\n",
        "actual_label, predicted_label, predicted_image = predict_single_image(image, class_names, loaded_model)\n",
        "print(f\"Actual Label: {actual_label}\")\n",
        "print(f\"Predicted Label: {predicted_label}\")\n"
      ],
      "metadata": {
        "id": "mw7cqAwmwVUD"
      },
      "execution_count": null,
      "outputs": []
    },
    {
      "cell_type": "code",
      "execution_count": null,
      "metadata": {
        "id": "BNJ5siZEFt5F"
      },
      "outputs": [],
      "source": [
        "def predictImages(data, class_names, model):\n",
        "\n",
        "    r, c = 3, 4\n",
        "    imgLen = r*c\n",
        "    plt.figure(figsize=(20, 15))\n",
        "    i = 1\n",
        "\n",
        "    for images, labels in iter(data):\n",
        "\n",
        "        id = np.random.randint(len(images))\n",
        "        img = tf.expand_dims(images[id], axis=0)\n",
        "\n",
        "        plt.subplot(r, c, i)\n",
        "        plt.imshow(img[0])\n",
        "\n",
        "        predicted = model.predict(img)\n",
        "        predicted = class_names[np.argmax(predicted)]\n",
        "        actual = class_names[np.argmax(labels[id])]\n",
        "\n",
        "        plt.title(f\"Actual: {actual}\\nPredicted: {predicted}\")\n",
        "        plt.axis('off')\n",
        "        cls()\n",
        "\n",
        "        i+=1\n",
        "        if i > imgLen:\n",
        "            break\n",
        "\n",
        "    plt.show()"
      ]
    },
    {
      "cell_type": "code",
      "execution_count": null,
      "metadata": {
        "id": "Ip4rFUCpFt5I"
      },
      "outputs": [],
      "source": [
        "# Call the function to predict all the test images and display the corresponding true and predicted label\n",
        "predictImages(test_ds, class_names, model)"
      ]
    },
    {
      "cell_type": "markdown",
      "source": [
        "Calculate confusion matrix, precision and recall"
      ],
      "metadata": {
        "id": "u8tQhlueDKwM"
      }
    },
    {
      "cell_type": "code",
      "source": [
        "y_true_labels = np.concatenate([y for x, y in test_ds], axis=0)\n",
        "y_true_labels = np.argmax(y_true_labels, axis=1)"
      ],
      "metadata": {
        "id": "h5NMz46VEf_5"
      },
      "execution_count": null,
      "outputs": []
    },
    {
      "cell_type": "code",
      "source": [
        "y_pred_probs = model.predict(test_ds)\n",
        "y_pred_labels = np.argmax(y_pred_probs, axis=1)"
      ],
      "metadata": {
        "id": "H540TL5BDRZC"
      },
      "execution_count": null,
      "outputs": []
    },
    {
      "cell_type": "markdown",
      "source": [
        "CONFUSION MATRIX"
      ],
      "metadata": {
        "id": "PjVb24mxErM7"
      }
    },
    {
      "cell_type": "code",
      "source": [
        "cm = confusion_matrix(y_true_labels, y_pred_labels)"
      ],
      "metadata": {
        "id": "OtpRrOp6Eu5k"
      },
      "execution_count": null,
      "outputs": []
    },
    {
      "cell_type": "code",
      "source": [
        "# Create a Seaborn heatmap for the confusion matrix\n",
        "sns.set(font_scale=1.2)  # Adjust the font size if needed\n",
        "fig, ax = plt.subplots(figsize=(9, 4))  # Adjust the figure size as desired\n",
        "sns.heatmap(cm, annot=True, fmt='d', cmap='YlGnBu', cbar=True,\n",
        "            annot_kws={'size': 12}, square=True, linewidths=0.5)\n",
        "\n",
        "# Set axis labels and title\n",
        "ax.set_xlabel('Predicted labels')\n",
        "ax.set_ylabel('True labels')\n",
        "ax.set_title('Confusion Matrix')\n",
        "\n",
        "# Customize cell size and spacing\n",
        "ax.xaxis.set_tick_params(width=0.5)\n",
        "ax.yaxis.set_tick_params(width=0.5)\n",
        "\n",
        "\n",
        "\n",
        "# Display the plot\n",
        "plt.tight_layout()  # Adjust the layout if needed\n",
        "plt.show()"
      ],
      "metadata": {
        "id": "0wogkL0YJMtF"
      },
      "execution_count": null,
      "outputs": []
    },
    {
      "cell_type": "markdown",
      "source": [
        "Precision and Recall from the confusion matrix"
      ],
      "metadata": {
        "id": "LXuAXcw4JYlg"
      }
    },
    {
      "cell_type": "code",
      "source": [
        "precision = np.diag(cm)/ np.sum(cm, axis=0)\n",
        "print(f'Precision: {precision}')"
      ],
      "metadata": {
        "id": "pZdkU19TJbjJ"
      },
      "execution_count": null,
      "outputs": []
    },
    {
      "cell_type": "code",
      "source": [
        "recall = np.diag(cm)/ np.sum(cm, axis=1)\n",
        "print(f'Recall: {recall}')"
      ],
      "metadata": {
        "id": "Cx8HiJZWJ6n9"
      },
      "execution_count": null,
      "outputs": []
    }
  ],
  "metadata": {
    "colab": {
      "provenance": [],
      "machine_shape": "hm",
      "gpuType": "T4"
    },
    "kernelspec": {
      "display_name": "Python 3",
      "name": "python3"
    },
    "language_info": {
      "codemirror_mode": {
        "name": "ipython",
        "version": 3
      },
      "file_extension": ".py",
      "mimetype": "text/x-python",
      "name": "python",
      "nbconvert_exporter": "python",
      "pygments_lexer": "ipython3",
      "version": "3.6.4"
    },
    "accelerator": "GPU"
  },
  "nbformat": 4,
  "nbformat_minor": 0
}